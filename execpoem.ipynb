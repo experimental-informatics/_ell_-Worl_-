{
 "cells": [
  {
   "cell_type": "markdown",
   "metadata": {},
   "source": [
    "# Executable ell worl"
   ]
  },
  {
   "cell_type": "code",
   "execution_count": null,
   "metadata": {},
   "outputs": [],
   "source": [
    "#!pip install beatnik --upgrade"
   ]
  },
  {
   "cell_type": "code",
   "execution_count": 2,
   "metadata": {},
   "outputs": [
    {
     "name": "stdout",
     "output_type": "stream",
     "text": [
      "ell\u001e",
      "Worl!\n"
     ]
    }
   ],
   "source": [
    "from beatnik import beatnik_simple\n",
    "from beatnik import beatnik_stack\n",
    "\n",
    "input_text = '''\n",
    "Sind Zeichen oder Programmierkenntnisse somit Texte,\n",
    "wenn Entscheidungsfindungen statt in Zusammenhang mit uns \n",
    "in einem größeren Kontext (also im System: Material) stehen?\n",
    "He Hazardous of we strong follow bacteria walks by town guy place\n",
    "Er stand neben mir,\n",
    "sprach er Sätze, dass nicht von mir versteht wurden.\n",
    "bis übermorgen, blieben die Sätze mir im Gedächtnis.\n",
    "fünf verschiedene Grammatiken, verwendente er.\n",
    "Schritt für Schritt. Ohne jede vernünftige Struktur, gabe er mir.\n",
    "Farbe, dass niemand viel findet, wurde gezeigt.\n",
    "aus der und die\n",
    "alle in alt\n",
    "und das land schiß\n",
    "sang der haß der flöhe für die hysterischen und ausgeschlossenen frauen\n",
    "Of neighborhood reputation:\n",
    "Doubted empty buses’ land  A very cold girl  Taxi of attempt\n",
    "By Paris’ gestures\n",
    "Man sagt, dass alle Übersetzungen nur für den Leser sind. \n",
    "Werke dienen nur der Hörerschaft, oder? Es gibt Werke, die dienen. \n",
    "Es gibt überdies Leben – das doppelsinnige Dichterische \n",
    "oder geheimnisvolle Bild. \n",
    "Es gilt: Wesentliche Übersetzer, das sind Dichter. \n",
    "Genug für den Augenblick, oder nicht? Darauf: translate\n",
    "sing walfisch! vorhin loesten anderswo dicke boote ihre anker.\n",
    "Man sagt, dass alle Übersetzungen nur für den Leser sind. \n",
    "Genug, denn gegenüber gibt es eines Dichtung. \n",
    "tongue teilt doppelsinnig tongue teilt mutter tongue macht übel \n",
    "oder grundsätzlich nicht translate.\n",
    "mit Körperflüssigkeiten verschwimmen mit Resilienz Poren mit Erderwärmung nicht sich.\n",
    "'''\n",
    "\n",
    "beatnik_simple(input_text,debug=False)"
   ]
  },
  {
   "cell_type": "markdown",
   "metadata": {},
   "source": [
    "## Authors of text\n",
    "\n",
    "### H : \n",
    "\n",
    "### e : Julia Nakotte\n",
    "\n",
    "Sind Zeichen oder Programmierkenntnisse somit Texte, wenn Entscheidungsfindungen statt in Zusammenhang mit uns in einem größeren Kontext (also im System: Material) stehen?\n",
    "\n",
    "*based on: [Codichte Seminartext](https://exmediawiki.khm.de/exmediawiki/index.php/Codichte_-_Experimente_mit_kognitiven_Systemen)*\n",
    "\n",
    "### l : Julia Vergazova\n",
    "\n",
    "He Hazardous of we strong follow bacteria walks by town guy place\n",
    "\n",
    "*based on: [River walk_Julia Vergazova.pdf](https://wolke.khm.de/index.php/s/E3x3KNWC5z46x6N)*\n",
    "\n",
    "### l : Ting Chun Liu\n",
    "\n",
    "Er stand neben mir, sprach er Sätze, dass nicht von mir versteht wurden.\n",
    "bis übermorgen, blieben die Sätze mir im Gedächtnis.\n",
    "fünf verschiedene Grammatiken, verwendente er.\n",
    "Schritt für Schritt. Ohne jede vernünftige Struktur, gabe er mir.\n",
    "Farbe, dass niemand viel findet, wurde gezeigt.\n",
    "\n",
    "### o : \n",
    "\n",
    "### _ : Patricia Falk\n",
    "\n",
    "aus der und die\n",
    "alle in alt\n",
    "und das land schiß\n",
    "sang der haß der flöhe für die hysterischen und ausgeschlossenen frauen\n",
    "\n",
    "*based on: despentes/bukowski*\n",
    "\n",
    "### W : Julia Maja Funke\n",
    "\n",
    "Of neighborhood reputation:\n",
    "Doubted empty buses’ land / A very cold girl / Taxi of attempt\n",
    "By Paris’ gestures\n",
    "\n",
    "*based on: Georges Perec \"An Attempt at Exhausting a Place in Paris\"*\n",
    "\n",
    "### o : Lisa James\n",
    "\n",
    "Man sagt, dass alle Übersetzungen nur für den Leser sind. Werke dienen nur der Hörerschaft, oder? Es gibt Werke, die dienen. Es gibt überdies Leben – das doppelsinnige Dichterische oder geheimnisvolle Bild. Es gilt: Wesentliche Übersetzer, das sind Dichter. Genug für den Augenblick, oder nicht? Darauf: translate!\n",
    "\n",
    "*based on: Walter Benjamins \"Die Aufgabe des Übersetzers\"*\n",
    "\n",
    "### r : Lukas Ortheil\n",
    "\n",
    "sing walfisch! vorhin loesten anderswo dicke boote ihre anker.\n",
    "\n",
    "*based on: Moby Dick*\n",
    "\n",
    "### l : Lisa James\n",
    "\n",
    "Man sagt, dass alle Übersetzungen nur für den Leser sind. Genug, denn gegenüber gibt es eines Dichtung. tongue teilt doppelsinnig tongue teilt mutter tongue macht übel oder grundsätzlich nicht translate.\n",
    "\n",
    "*based on: Walter Benjamins \"Die Aufgabe des Übersetzers\"*\n",
    "\n",
    "### d : \n",
    "\n",
    "### ! : Tom Tautorus\n",
    "\n",
    "mit Körperflüssigkeiten verschwimmen mit Resilienz Poren mit Erderwärmung nicht sich."
   ]
  }
 ],
 "metadata": {
  "kernelspec": {
   "display_name": "Python 3 (ipykernel)",
   "language": "python",
   "name": "python3"
  },
  "language_info": {
   "codemirror_mode": {
    "name": "ipython",
    "version": 3
   },
   "file_extension": ".py",
   "mimetype": "text/x-python",
   "name": "python",
   "nbconvert_exporter": "python",
   "pygments_lexer": "ipython3",
   "version": "3.9.6"
  }
 },
 "nbformat": 4,
 "nbformat_minor": 4
}
