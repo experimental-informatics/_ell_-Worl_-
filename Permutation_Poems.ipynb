{
 "cells": [
  {
   "cell_type": "markdown",
   "metadata": {},
   "source": [
    "# Permutation Poems"
   ]
  },
  {
   "cell_type": "code",
   "execution_count": 1,
   "metadata": {},
   "outputs": [
    {
     "name": "stdout",
     "output_type": "stream",
     "text": [
      "KICK THAT HABIT MAN\n",
      "KICK THAT MAN HABIT\n",
      "KICK HABIT THAT MAN\n",
      "KICK HABIT MAN THAT\n",
      "KICK MAN THAT HABIT\n",
      "KICK MAN HABIT THAT\n",
      "THAT KICK HABIT MAN\n",
      "THAT KICK MAN HABIT\n",
      "THAT HABIT KICK MAN\n",
      "THAT HABIT MAN KICK\n",
      "THAT MAN KICK HABIT\n",
      "THAT MAN HABIT KICK\n",
      "HABIT KICK THAT MAN\n",
      "HABIT KICK MAN THAT\n",
      "HABIT THAT KICK MAN\n",
      "HABIT THAT MAN KICK\n",
      "HABIT MAN KICK THAT\n",
      "HABIT MAN THAT KICK\n",
      "MAN KICK THAT HABIT\n",
      "MAN KICK HABIT THAT\n",
      "MAN THAT KICK HABIT\n",
      "MAN THAT HABIT KICK\n",
      "MAN HABIT KICK THAT\n",
      "MAN HABIT THAT KICK\n"
     ]
    }
   ],
   "source": [
    "# Permutation Poems, copyright (c) 2014 Nick Montfort <nickm@nickm.com>\n",
    "# Original by Brion Gysin & Ian Sommerville, 1960\n",
    "#\n",
    "# Permission to use, copy, modify, and/or distribute this software for any\n",
    "# purpose with or without fee is hereby granted, provided that the above\n",
    "# copyright notice and this permission notice appear in all copies.\n",
    "#\n",
    "# THE SOFTWARE IS PROVIDED \"AS IS\" AND THE AUTHOR DISCLAIMS ALL WARRANTIES\n",
    "# WITH REGARD TO THIS SOFTWARE INCLUDING ALL IMPLIED WARRANTIES OF\n",
    "# MERCHANTABILITY AND FITNESS. IN NO EVENT SHALL THE AUTHOR BE LIABLE FOR ANY\n",
    "# SPECIAL, DIRECT, INDIRECT, OR CONSEQUENTIAL DAMAGES OR ANY DAMAGES\n",
    "# WHATSOEVER RESULTING FROM LOSS OF USE, DATA OR PROFITS, WHETHER IN AN\n",
    "# ACTION OF CONTRACT, NEGLIGENCE OR OTHER TORTIOUS ACTION, ARISING OUT OF OR\n",
    "# IN CONNECTION WITH THE USE OR PERFORMANCE OF THIS SOFTWARE.\n",
    "#\n",
    "# Updated 31 May 2018 to add compatibility with Python 3 (Python 2 still works)\n",
    "\n",
    "def permutations(elements):\n",
    "    if len(elements) < 2:\n",
    "        yield elements\n",
    "    else:\n",
    "        for i in range(len(elements)):\n",
    "            for result in permutations(elements[:i] + elements[i+1:]):\n",
    "                yield [elements[i]] + result\n",
    "\n",
    "words = ['KICK', 'THAT', 'HABIT', 'MAN']\n",
    "\n",
    "for parts in list(permutations(words)):\n",
    "    print(' '.join(parts))"
   ]
  }
 ],
 "metadata": {
  "kernelspec": {
   "display_name": "Python 3",
   "language": "python",
   "name": "python3"
  },
  "language_info": {
   "codemirror_mode": {
    "name": "ipython",
    "version": 3
   },
   "file_extension": ".py",
   "mimetype": "text/x-python",
   "name": "python",
   "nbconvert_exporter": "python",
   "pygments_lexer": "ipython3",
   "version": "3.7.8"
  }
 },
 "nbformat": 4,
 "nbformat_minor": 4
}
