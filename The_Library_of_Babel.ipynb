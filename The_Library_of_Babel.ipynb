{
 "cells": [
  {
   "cell_type": "markdown",
   "metadata": {},
   "source": [
    "# The Library of Babel\n",
    "\n",
    "The following program generates all books of a certain length."
   ]
  },
  {
   "cell_type": "code",
   "execution_count": null,
   "metadata": {},
   "outputs": [],
   "source": [
    "# length of each generated book\n",
    "lengthOfBook = 10\n",
    "\n",
    "indexCounter = [] #Interger\n",
    "BookOfBooks = [] #Char\n",
    "sign = ['_','.',',','a','b','c','d','e','f','g','h','i','j','k','l','m','n','o','p','t',',q','r','s','t','u','v','w','x','y','z']\n",
    "numberOfCharacters = 29\n",
    "pointOfChangeFound = False\n",
    "allBooksPrinted = False\n",
    "\n",
    "\n",
    "# initualize an empty book \n",
    "for i in range(0,lengthOfBook):\n",
    "    BookOfBooks.append('_')\n",
    "    indexCounter.append(0)\n",
    "\n",
    "k = 1\n",
    "while not allBooksPrinted:\n",
    "    print(\"Number of Books\" + str(k))\n",
    "    k+=1\n",
    "    for j in range(lengthOfBook):\n",
    "        print(BookOfBooks[j],end='')\n",
    "    print()\n",
    "    \n",
    "    i = 0\n",
    "    pointOfChangeFound = False\n",
    "    while not pointOfChangeFound and not allBooksPrinted:\n",
    "        if indexCounter[i] < numberOfCharacters-1:\n",
    "            indexCounter[i]+=1\n",
    "            pointOfChangeFound = True\n",
    "            BookOfBooks[i] = sign[indexCounter[i]]\n",
    "        else:\n",
    "            indexCounter[i]=0\n",
    "            BookOfBooks[i] = sign[0]\n",
    "            i+=1\n",
    "            if i >= lengthOfBook:\n",
    "                allBooksPrinted = True\n",
    "                print('All books printed!')\n",
    "            print()"
   ]
  }
 ],
 "metadata": {
  "kernelspec": {
   "display_name": "Python 3",
   "language": "python",
   "name": "python3"
  },
  "language_info": {
   "codemirror_mode": {
    "name": "ipython",
    "version": 3
   },
   "file_extension": ".py",
   "mimetype": "text/x-python",
   "name": "python",
   "nbconvert_exporter": "python",
   "pygments_lexer": "ipython3",
   "version": "3.7.8"
  }
 },
 "nbformat": 4,
 "nbformat_minor": 4
}
